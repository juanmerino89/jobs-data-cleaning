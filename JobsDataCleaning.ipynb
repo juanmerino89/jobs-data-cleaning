{
 "cells": [
  {
   "cell_type": "markdown",
   "id": "c6c094f8",
   "metadata": {},
   "source": [
    "# Importing Libraries"
   ]
  },
  {
   "cell_type": "code",
   "execution_count": 1,
   "id": "2d46f71d",
   "metadata": {},
   "outputs": [],
   "source": [
    "import pandas as pd\n",
    "import numpy as np\n",
    "import os"
   ]
  },
  {
   "cell_type": "markdown",
   "id": "f2c542d8",
   "metadata": {},
   "source": [
    "# Files Loading"
   ]
  },
  {
   "cell_type": "markdown",
   "id": "b89b00d0",
   "metadata": {},
   "source": [
    "We load all the files in the folder \"data\":"
   ]
  },
  {
   "cell_type": "code",
   "execution_count": 2,
   "id": "e1ef19f3",
   "metadata": {},
   "outputs": [],
   "source": [
    "folder = 'data_jobs'\n",
    "files = os.listdir(folder)\n",
    "\n",
    "dfs = []\n",
    "\n",
    "headers = ['Job','URL','Company','Location','Salary','Posted','ID','Job_Description']\n",
    "\n",
    "for file in files:\n",
    "    path = os.path.join(folder, file)\n",
    "    \n",
    "    df = pd.read_excel(path, names=headers)\n",
    "    \n",
    "    dfs.append(df)\n",
    "\n",
    "Jobs = pd.concat(dfs)"
   ]
  },
  {
   "cell_type": "markdown",
   "id": "c524bd04",
   "metadata": {},
   "source": [
    "# Data Cleaning\n",
    "\n",
    "First of all, we need to delete all the duplicated values we could have. The best column to do so is the \"ID\" column:"
   ]
  },
  {
   "cell_type": "code",
   "execution_count": 3,
   "id": "4d5145eb",
   "metadata": {},
   "outputs": [],
   "source": [
    "Jobs = Jobs.drop_duplicates(subset='ID')"
   ]
  },
  {
   "cell_type": "markdown",
   "id": "4dc8977d",
   "metadata": {},
   "source": [
    "Let's see how it looks like the df:"
   ]
  },
  {
   "cell_type": "code",
   "execution_count": 4,
   "id": "309f2958",
   "metadata": {},
   "outputs": [
    {
     "data": {
      "text/html": [
       "<div>\n",
       "<style scoped>\n",
       "    .dataframe tbody tr th:only-of-type {\n",
       "        vertical-align: middle;\n",
       "    }\n",
       "\n",
       "    .dataframe tbody tr th {\n",
       "        vertical-align: top;\n",
       "    }\n",
       "\n",
       "    .dataframe thead th {\n",
       "        text-align: right;\n",
       "    }\n",
       "</style>\n",
       "<table border=\"1\" class=\"dataframe\">\n",
       "  <thead>\n",
       "    <tr style=\"text-align: right;\">\n",
       "      <th></th>\n",
       "      <th>Job</th>\n",
       "      <th>URL</th>\n",
       "      <th>Company</th>\n",
       "      <th>Location</th>\n",
       "      <th>Salary</th>\n",
       "      <th>Posted</th>\n",
       "      <th>ID</th>\n",
       "      <th>Job_Description</th>\n",
       "    </tr>\n",
       "  </thead>\n",
       "  <tbody>\n",
       "    <tr>\n",
       "      <th>count</th>\n",
       "      <td>29796</td>\n",
       "      <td>29796</td>\n",
       "      <td>29772</td>\n",
       "      <td>29796</td>\n",
       "      <td>11222</td>\n",
       "      <td>23542</td>\n",
       "      <td>29796</td>\n",
       "      <td>29796</td>\n",
       "    </tr>\n",
       "    <tr>\n",
       "      <th>unique</th>\n",
       "      <td>15589</td>\n",
       "      <td>29796</td>\n",
       "      <td>12754</td>\n",
       "      <td>11088</td>\n",
       "      <td>5902</td>\n",
       "      <td>57</td>\n",
       "      <td>29796</td>\n",
       "      <td>29647</td>\n",
       "    </tr>\n",
       "    <tr>\n",
       "      <th>top</th>\n",
       "      <td>Financial Analyst</td>\n",
       "      <td>https://www.indeed.com/rc/clk?jk=dd21611605e12...</td>\n",
       "      <td>JPMorgan Chase Bank, N.A.</td>\n",
       "      <td>Remote</td>\n",
       "      <td>$90,000 - $110,000 por año</td>\n",
       "      <td>PostedPublicado hace más de 30 días</td>\n",
       "      <td>job_dd21611605e12f1c</td>\n",
       "      <td>Hubo un error en nuestro sistema_x000D_\\nTraba...</td>\n",
       "    </tr>\n",
       "    <tr>\n",
       "      <th>freq</th>\n",
       "      <td>989</td>\n",
       "      <td>1</td>\n",
       "      <td>228</td>\n",
       "      <td>1651</td>\n",
       "      <td>66</td>\n",
       "      <td>6918</td>\n",
       "      <td>1</td>\n",
       "      <td>9</td>\n",
       "    </tr>\n",
       "  </tbody>\n",
       "</table>\n",
       "</div>"
      ],
      "text/plain": [
       "                      Job                                                URL  \\\n",
       "count               29796                                              29796   \n",
       "unique              15589                                              29796   \n",
       "top     Financial Analyst  https://www.indeed.com/rc/clk?jk=dd21611605e12...   \n",
       "freq                  989                                                  1   \n",
       "\n",
       "                          Company Location                      Salary  \\\n",
       "count                       29772    29796                       11222   \n",
       "unique                      12754    11088                        5902   \n",
       "top     JPMorgan Chase Bank, N.A.   Remote  $90,000 - $110,000 por año   \n",
       "freq                          228     1651                          66   \n",
       "\n",
       "                                     Posted                    ID  \\\n",
       "count                                 23542                 29796   \n",
       "unique                                   57                 29796   \n",
       "top     PostedPublicado hace más de 30 días  job_dd21611605e12f1c   \n",
       "freq                                   6918                     1   \n",
       "\n",
       "                                          Job_Description  \n",
       "count                                               29796  \n",
       "unique                                              29647  \n",
       "top     Hubo un error en nuestro sistema_x000D_\\nTraba...  \n",
       "freq                                                    9  "
      ]
     },
     "execution_count": 4,
     "metadata": {},
     "output_type": "execute_result"
    }
   ],
   "source": [
    "Jobs.describe()"
   ]
  },
  {
   "cell_type": "code",
   "execution_count": 5,
   "id": "ec2d85c2",
   "metadata": {},
   "outputs": [
    {
     "name": "stdout",
     "output_type": "stream",
     "text": [
      "<class 'pandas.core.frame.DataFrame'>\n",
      "Int64Index: 29796 entries, 0 to 987\n",
      "Data columns (total 8 columns):\n",
      " #   Column           Non-Null Count  Dtype \n",
      "---  ------           --------------  ----- \n",
      " 0   Job              29796 non-null  object\n",
      " 1   URL              29796 non-null  object\n",
      " 2   Company          29772 non-null  object\n",
      " 3   Location         29796 non-null  object\n",
      " 4   Salary           11222 non-null  object\n",
      " 5   Posted           23542 non-null  object\n",
      " 6   ID               29796 non-null  object\n",
      " 7   Job_Description  29796 non-null  object\n",
      "dtypes: object(8)\n",
      "memory usage: 2.0+ MB\n"
     ]
    }
   ],
   "source": [
    "Jobs.info()"
   ]
  },
  {
   "cell_type": "markdown",
   "id": "9db3608d",
   "metadata": {},
   "source": [
    "We see we have almost all the columns with non-null values, except Salary and Posted. The column Posted is not critic, since it's a column that shows when the job posting was published in terms of the extraction date. It doesn't seem very useful, so we can't drop it.\n",
    "\n",
    "With regards to the Salary column, we see we have aprox 30-35% of non-null values.\n",
    "#### Could we estimate the Salary null values?\n",
    "Let's see it later!"
   ]
  },
  {
   "cell_type": "code",
   "execution_count": 6,
   "id": "cd6641a3",
   "metadata": {},
   "outputs": [
    {
     "data": {
      "text/html": [
       "<div>\n",
       "<style scoped>\n",
       "    .dataframe tbody tr th:only-of-type {\n",
       "        vertical-align: middle;\n",
       "    }\n",
       "\n",
       "    .dataframe tbody tr th {\n",
       "        vertical-align: top;\n",
       "    }\n",
       "\n",
       "    .dataframe thead th {\n",
       "        text-align: right;\n",
       "    }\n",
       "</style>\n",
       "<table border=\"1\" class=\"dataframe\">\n",
       "  <thead>\n",
       "    <tr style=\"text-align: right;\">\n",
       "      <th></th>\n",
       "      <th>Job</th>\n",
       "      <th>URL</th>\n",
       "      <th>Company</th>\n",
       "      <th>Location</th>\n",
       "      <th>Salary</th>\n",
       "      <th>ID</th>\n",
       "      <th>Job_Description</th>\n",
       "    </tr>\n",
       "  </thead>\n",
       "  <tbody>\n",
       "    <tr>\n",
       "      <th>0</th>\n",
       "      <td>Enterprise Business Intelligence Analyst I</td>\n",
       "      <td>https://www.indeed.com/rc/clk?jk=dd21611605e12...</td>\n",
       "      <td>BOK Financial</td>\n",
       "      <td>Tulsa, OK 74101</td>\n",
       "      <td>NaN</td>\n",
       "      <td>job_dd21611605e12f1c</td>\n",
       "      <td>Ir directamente al contenido principal_x000D_\\...</td>\n",
       "    </tr>\n",
       "    <tr>\n",
       "      <th>1</th>\n",
       "      <td>Business Analyst, Commercial Strategy</td>\n",
       "      <td>https://www.indeed.com/rc/clk?jk=64d9fb0d5e335...</td>\n",
       "      <td>Live Nation</td>\n",
       "      <td>Chicago, IL</td>\n",
       "      <td>NaN</td>\n",
       "      <td>job_64d9fb0d5e3351ae</td>\n",
       "      <td>Ir directamente al contenido principal_x000D_\\...</td>\n",
       "    </tr>\n",
       "    <tr>\n",
       "      <th>2</th>\n",
       "      <td>Business Analyst I</td>\n",
       "      <td>https://www.indeed.com/rc/clk?jk=3f63ec9a3f8d6...</td>\n",
       "      <td>Amex</td>\n",
       "      <td>Phoenix, AZ</td>\n",
       "      <td>$55,000 - $105,000 por año</td>\n",
       "      <td>job_3f63ec9a3f8d6a9e</td>\n",
       "      <td>Ir directamente al contenido principal_x000D_\\...</td>\n",
       "    </tr>\n",
       "    <tr>\n",
       "      <th>3</th>\n",
       "      <td>Sr. Analyst, Business Optimization (Remote)</td>\n",
       "      <td>https://www.indeed.com/rc/clk?jk=f78f07684adbc...</td>\n",
       "      <td>Staples</td>\n",
       "      <td>Remote</td>\n",
       "      <td>$57,300 - $86,400 por año</td>\n",
       "      <td>job_f78f07684adbc4c4</td>\n",
       "      <td>Ir directamente al contenido principal_x000D_\\...</td>\n",
       "    </tr>\n",
       "    <tr>\n",
       "      <th>4</th>\n",
       "      <td>Business Risk Analyst I - Commercial Risk</td>\n",
       "      <td>https://www.indeed.com/rc/clk?jk=72945a28e3458...</td>\n",
       "      <td>M&amp;T Bank</td>\n",
       "      <td>Buffalo, NY</td>\n",
       "      <td>NaN</td>\n",
       "      <td>job_72945a28e345817a</td>\n",
       "      <td>Ir directamente al contenido principal_x000D_\\...</td>\n",
       "    </tr>\n",
       "    <tr>\n",
       "      <th>...</th>\n",
       "      <td>...</td>\n",
       "      <td>...</td>\n",
       "      <td>...</td>\n",
       "      <td>...</td>\n",
       "      <td>...</td>\n",
       "      <td>...</td>\n",
       "      <td>...</td>\n",
       "    </tr>\n",
       "    <tr>\n",
       "      <th>969</th>\n",
       "      <td>Property Controller- Graduate East Lansing</td>\n",
       "      <td>https://www.indeed.com/rc/clk?jk=a88f74a87f1c6...</td>\n",
       "      <td>Schulte Companies</td>\n",
       "      <td>East Lansing, MI 48823+1 ubicación</td>\n",
       "      <td>NaN</td>\n",
       "      <td>job_a88f74a87f1c6e48</td>\n",
       "      <td>Ir directamente al contenido principal_x000D_\\...</td>\n",
       "    </tr>\n",
       "    <tr>\n",
       "      <th>972</th>\n",
       "      <td>Assistant Controller</td>\n",
       "      <td>https://www.indeed.com/rc/clk?jk=6fe37642cf957...</td>\n",
       "      <td>Home State Insurance Group, Inc.</td>\n",
       "      <td>Waco, TX 76710+1 ubicación</td>\n",
       "      <td>NaN</td>\n",
       "      <td>job_6fe37642cf95726f</td>\n",
       "      <td>Ir directamente al contenido principal_x000D_\\...</td>\n",
       "    </tr>\n",
       "    <tr>\n",
       "      <th>980</th>\n",
       "      <td>Plant Controller</td>\n",
       "      <td>https://www.indeed.com/rc/clk?jk=094beaf0996c9...</td>\n",
       "      <td>Dometic Corporation</td>\n",
       "      <td>Cerritos, CA 90703</td>\n",
       "      <td>NaN</td>\n",
       "      <td>job_094beaf0996c95fe</td>\n",
       "      <td>Ir directamente al contenido principal_x000D_\\...</td>\n",
       "    </tr>\n",
       "    <tr>\n",
       "      <th>981</th>\n",
       "      <td>Controller</td>\n",
       "      <td>https://www.indeed.com/rc/clk?jk=f3027b081096f...</td>\n",
       "      <td>The Talance Group, LP</td>\n",
       "      <td>Houston, TX 77002 (Downtown area)</td>\n",
       "      <td>NaN</td>\n",
       "      <td>job_f3027b081096ff4c</td>\n",
       "      <td>Ir directamente al contenido principal_x000D_\\...</td>\n",
       "    </tr>\n",
       "    <tr>\n",
       "      <th>987</th>\n",
       "      <td>Plant Controller</td>\n",
       "      <td>https://www.indeed.com/rc/clk?jk=f6fc5130f7639...</td>\n",
       "      <td>Johnson Controls</td>\n",
       "      <td>Marinette, WI+5 ubicaciones</td>\n",
       "      <td>NaN</td>\n",
       "      <td>job_f6fc5130f7639a6e</td>\n",
       "      <td>Ir directamente al contenido principal_x000D_\\...</td>\n",
       "    </tr>\n",
       "  </tbody>\n",
       "</table>\n",
       "<p>29796 rows × 7 columns</p>\n",
       "</div>"
      ],
      "text/plain": [
       "                                             Job  \\\n",
       "0     Enterprise Business Intelligence Analyst I   \n",
       "1          Business Analyst, Commercial Strategy   \n",
       "2                             Business Analyst I   \n",
       "3    Sr. Analyst, Business Optimization (Remote)   \n",
       "4      Business Risk Analyst I - Commercial Risk   \n",
       "..                                           ...   \n",
       "969   Property Controller- Graduate East Lansing   \n",
       "972                         Assistant Controller   \n",
       "980                             Plant Controller   \n",
       "981                                   Controller   \n",
       "987                             Plant Controller   \n",
       "\n",
       "                                                   URL  \\\n",
       "0    https://www.indeed.com/rc/clk?jk=dd21611605e12...   \n",
       "1    https://www.indeed.com/rc/clk?jk=64d9fb0d5e335...   \n",
       "2    https://www.indeed.com/rc/clk?jk=3f63ec9a3f8d6...   \n",
       "3    https://www.indeed.com/rc/clk?jk=f78f07684adbc...   \n",
       "4    https://www.indeed.com/rc/clk?jk=72945a28e3458...   \n",
       "..                                                 ...   \n",
       "969  https://www.indeed.com/rc/clk?jk=a88f74a87f1c6...   \n",
       "972  https://www.indeed.com/rc/clk?jk=6fe37642cf957...   \n",
       "980  https://www.indeed.com/rc/clk?jk=094beaf0996c9...   \n",
       "981  https://www.indeed.com/rc/clk?jk=f3027b081096f...   \n",
       "987  https://www.indeed.com/rc/clk?jk=f6fc5130f7639...   \n",
       "\n",
       "                              Company                            Location  \\\n",
       "0                       BOK Financial                     Tulsa, OK 74101   \n",
       "1                         Live Nation                         Chicago, IL   \n",
       "2                                Amex                         Phoenix, AZ   \n",
       "3                             Staples                              Remote   \n",
       "4                            M&T Bank                         Buffalo, NY   \n",
       "..                                ...                                 ...   \n",
       "969                 Schulte Companies  East Lansing, MI 48823+1 ubicación   \n",
       "972  Home State Insurance Group, Inc.          Waco, TX 76710+1 ubicación   \n",
       "980               Dometic Corporation                  Cerritos, CA 90703   \n",
       "981             The Talance Group, LP   Houston, TX 77002 (Downtown area)   \n",
       "987                  Johnson Controls         Marinette, WI+5 ubicaciones   \n",
       "\n",
       "                         Salary                    ID  \\\n",
       "0                           NaN  job_dd21611605e12f1c   \n",
       "1                           NaN  job_64d9fb0d5e3351ae   \n",
       "2    $55,000 - $105,000 por año  job_3f63ec9a3f8d6a9e   \n",
       "3     $57,300 - $86,400 por año  job_f78f07684adbc4c4   \n",
       "4                           NaN  job_72945a28e345817a   \n",
       "..                          ...                   ...   \n",
       "969                         NaN  job_a88f74a87f1c6e48   \n",
       "972                         NaN  job_6fe37642cf95726f   \n",
       "980                         NaN  job_094beaf0996c95fe   \n",
       "981                         NaN  job_f3027b081096ff4c   \n",
       "987                         NaN  job_f6fc5130f7639a6e   \n",
       "\n",
       "                                       Job_Description  \n",
       "0    Ir directamente al contenido principal_x000D_\\...  \n",
       "1    Ir directamente al contenido principal_x000D_\\...  \n",
       "2    Ir directamente al contenido principal_x000D_\\...  \n",
       "3    Ir directamente al contenido principal_x000D_\\...  \n",
       "4    Ir directamente al contenido principal_x000D_\\...  \n",
       "..                                                 ...  \n",
       "969  Ir directamente al contenido principal_x000D_\\...  \n",
       "972  Ir directamente al contenido principal_x000D_\\...  \n",
       "980  Ir directamente al contenido principal_x000D_\\...  \n",
       "981  Ir directamente al contenido principal_x000D_\\...  \n",
       "987  Ir directamente al contenido principal_x000D_\\...  \n",
       "\n",
       "[29796 rows x 7 columns]"
      ]
     },
     "execution_count": 6,
     "metadata": {},
     "output_type": "execute_result"
    }
   ],
   "source": [
    "Jobs.drop(columns=['Posted'])"
   ]
  },
  {
   "cell_type": "markdown",
   "id": "65385a97",
   "metadata": {},
   "source": [
    "We saw all the Dtypes are object. However, the Salary column would be interesting to be a numeric column."
   ]
  },
  {
   "cell_type": "markdown",
   "id": "7cb35821",
   "metadata": {},
   "source": [
    "## Salary"
   ]
  },
  {
   "cell_type": "markdown",
   "id": "70016f72",
   "metadata": {},
   "source": [
    "Let's see how it looks like:"
   ]
  },
  {
   "cell_type": "code",
   "execution_count": 7,
   "id": "ac6d4d8e",
   "metadata": {},
   "outputs": [
    {
     "data": {
      "text/plain": [
       "[nan,\n",
       " nan,\n",
       " '$55,000 - $105,000 por año',\n",
       " '$57,300 - $86,400 por año',\n",
       " nan,\n",
       " '$67,000 - $100,000 por año',\n",
       " nan,\n",
       " nan,\n",
       " nan,\n",
       " '$60,000 - $132,000 por año',\n",
       " nan,\n",
       " nan,\n",
       " nan,\n",
       " nan,\n",
       " '$70 por hora',\n",
       " '$70,785 - $107,640 por año',\n",
       " '$65,490 - $88,660 por año',\n",
       " nan,\n",
       " nan,\n",
       " '$65,000 - $105,000 por año',\n",
       " nan,\n",
       " nan,\n",
       " '$154,523 - $169,854 por año',\n",
       " '$66,300 - $137,700 por año',\n",
       " nan,\n",
       " nan,\n",
       " nan,\n",
       " nan,\n",
       " nan,\n",
       " nan,\n",
       " nan,\n",
       " nan,\n",
       " nan,\n",
       " nan,\n",
       " nan,\n",
       " nan,\n",
       " nan,\n",
       " nan,\n",
       " nan,\n",
       " '$68,395 - $97,933 por año',\n",
       " '$54,000 - $134,000 por año',\n",
       " nan,\n",
       " nan,\n",
       " nan,\n",
       " nan,\n",
       " nan,\n",
       " '$63,118 - $87,346 por año',\n",
       " nan,\n",
       " nan,\n",
       " nan]"
      ]
     },
     "execution_count": 7,
     "metadata": {},
     "output_type": "execute_result"
    }
   ],
   "source": [
    "Jobs['Salary'].head(50).values.tolist()"
   ]
  },
  {
   "cell_type": "markdown",
   "id": "bf62cc7e",
   "metadata": {},
   "source": [
    "It looks horrible! We have single values, we have ranges, we have salary per year (año), month (mes), week (semana), day (día), and hourly (hora). Moreover we have the $ symbol in all the values, and in some cases we have the words Desde (From), and Hasta (Up to). Let's clean it!\n",
    "\n",
    "First of all, the frecuency pay could be interesting in order to standardize the salaries. Let's split it into a new column:"
   ]
  },
  {
   "cell_type": "code",
   "execution_count": 8,
   "id": "9619c663",
   "metadata": {},
   "outputs": [],
   "source": [
    "Jobs['Frecuency_Salary'] = Jobs['Salary'].str.split(' por ').str.get(1)"
   ]
  },
  {
   "cell_type": "code",
   "execution_count": 9,
   "id": "bdcd8cf5",
   "metadata": {},
   "outputs": [
    {
     "data": {
      "text/plain": [
       "array([nan, 'año', 'hora', 'mes', 'semana', 'día'], dtype=object)"
      ]
     },
     "execution_count": 9,
     "metadata": {},
     "output_type": "execute_result"
    }
   ],
   "source": [
    "Jobs['Frecuency_Salary'].unique()"
   ]
  },
  {
   "cell_type": "code",
   "execution_count": 10,
   "id": "377a05ca",
   "metadata": {},
   "outputs": [
    {
     "data": {
      "text/html": [
       "<div>\n",
       "<style scoped>\n",
       "    .dataframe tbody tr th:only-of-type {\n",
       "        vertical-align: middle;\n",
       "    }\n",
       "\n",
       "    .dataframe tbody tr th {\n",
       "        vertical-align: top;\n",
       "    }\n",
       "\n",
       "    .dataframe thead th {\n",
       "        text-align: right;\n",
       "    }\n",
       "</style>\n",
       "<table border=\"1\" class=\"dataframe\">\n",
       "  <thead>\n",
       "    <tr style=\"text-align: right;\">\n",
       "      <th></th>\n",
       "      <th>Job</th>\n",
       "      <th>URL</th>\n",
       "      <th>Company</th>\n",
       "      <th>Location</th>\n",
       "      <th>Salary</th>\n",
       "      <th>Posted</th>\n",
       "      <th>ID</th>\n",
       "      <th>Job_Description</th>\n",
       "      <th>Frecuency_Salary</th>\n",
       "    </tr>\n",
       "  </thead>\n",
       "  <tbody>\n",
       "    <tr>\n",
       "      <th>0</th>\n",
       "      <td>Enterprise Business Intelligence Analyst I</td>\n",
       "      <td>https://www.indeed.com/rc/clk?jk=dd21611605e12...</td>\n",
       "      <td>BOK Financial</td>\n",
       "      <td>Tulsa, OK 74101</td>\n",
       "      <td>NaN</td>\n",
       "      <td>PostedPublicado hace 2 días</td>\n",
       "      <td>job_dd21611605e12f1c</td>\n",
       "      <td>Ir directamente al contenido principal_x000D_\\...</td>\n",
       "      <td>NaN</td>\n",
       "    </tr>\n",
       "    <tr>\n",
       "      <th>1</th>\n",
       "      <td>Business Analyst, Commercial Strategy</td>\n",
       "      <td>https://www.indeed.com/rc/clk?jk=64d9fb0d5e335...</td>\n",
       "      <td>Live Nation</td>\n",
       "      <td>Chicago, IL</td>\n",
       "      <td>NaN</td>\n",
       "      <td>PostedPublicado hace más de 30 días</td>\n",
       "      <td>job_64d9fb0d5e3351ae</td>\n",
       "      <td>Ir directamente al contenido principal_x000D_\\...</td>\n",
       "      <td>NaN</td>\n",
       "    </tr>\n",
       "    <tr>\n",
       "      <th>2</th>\n",
       "      <td>Business Analyst I</td>\n",
       "      <td>https://www.indeed.com/rc/clk?jk=3f63ec9a3f8d6...</td>\n",
       "      <td>Amex</td>\n",
       "      <td>Phoenix, AZ</td>\n",
       "      <td>$55,000 - $105,000 por año</td>\n",
       "      <td>PostedPublicado hace más de 30 días</td>\n",
       "      <td>job_3f63ec9a3f8d6a9e</td>\n",
       "      <td>Ir directamente al contenido principal_x000D_\\...</td>\n",
       "      <td>año</td>\n",
       "    </tr>\n",
       "    <tr>\n",
       "      <th>3</th>\n",
       "      <td>Sr. Analyst, Business Optimization (Remote)</td>\n",
       "      <td>https://www.indeed.com/rc/clk?jk=f78f07684adbc...</td>\n",
       "      <td>Staples</td>\n",
       "      <td>Remote</td>\n",
       "      <td>$57,300 - $86,400 por año</td>\n",
       "      <td>PostedPublicado hace 3 días</td>\n",
       "      <td>job_f78f07684adbc4c4</td>\n",
       "      <td>Ir directamente al contenido principal_x000D_\\...</td>\n",
       "      <td>año</td>\n",
       "    </tr>\n",
       "    <tr>\n",
       "      <th>4</th>\n",
       "      <td>Business Risk Analyst I - Commercial Risk</td>\n",
       "      <td>https://www.indeed.com/rc/clk?jk=72945a28e3458...</td>\n",
       "      <td>M&amp;T Bank</td>\n",
       "      <td>Buffalo, NY</td>\n",
       "      <td>NaN</td>\n",
       "      <td>PostedPublicado hace 6 días</td>\n",
       "      <td>job_72945a28e345817a</td>\n",
       "      <td>Ir directamente al contenido principal_x000D_\\...</td>\n",
       "      <td>NaN</td>\n",
       "    </tr>\n",
       "  </tbody>\n",
       "</table>\n",
       "</div>"
      ],
      "text/plain": [
       "                                           Job  \\\n",
       "0   Enterprise Business Intelligence Analyst I   \n",
       "1        Business Analyst, Commercial Strategy   \n",
       "2                           Business Analyst I   \n",
       "3  Sr. Analyst, Business Optimization (Remote)   \n",
       "4    Business Risk Analyst I - Commercial Risk   \n",
       "\n",
       "                                                 URL        Company  \\\n",
       "0  https://www.indeed.com/rc/clk?jk=dd21611605e12...  BOK Financial   \n",
       "1  https://www.indeed.com/rc/clk?jk=64d9fb0d5e335...    Live Nation   \n",
       "2  https://www.indeed.com/rc/clk?jk=3f63ec9a3f8d6...           Amex   \n",
       "3  https://www.indeed.com/rc/clk?jk=f78f07684adbc...        Staples   \n",
       "4  https://www.indeed.com/rc/clk?jk=72945a28e3458...       M&T Bank   \n",
       "\n",
       "          Location                      Salary  \\\n",
       "0  Tulsa, OK 74101                         NaN   \n",
       "1      Chicago, IL                         NaN   \n",
       "2      Phoenix, AZ  $55,000 - $105,000 por año   \n",
       "3           Remote   $57,300 - $86,400 por año   \n",
       "4      Buffalo, NY                         NaN   \n",
       "\n",
       "                                Posted                    ID  \\\n",
       "0          PostedPublicado hace 2 días  job_dd21611605e12f1c   \n",
       "1  PostedPublicado hace más de 30 días  job_64d9fb0d5e3351ae   \n",
       "2  PostedPublicado hace más de 30 días  job_3f63ec9a3f8d6a9e   \n",
       "3          PostedPublicado hace 3 días  job_f78f07684adbc4c4   \n",
       "4          PostedPublicado hace 6 días  job_72945a28e345817a   \n",
       "\n",
       "                                     Job_Description Frecuency_Salary  \n",
       "0  Ir directamente al contenido principal_x000D_\\...              NaN  \n",
       "1  Ir directamente al contenido principal_x000D_\\...              NaN  \n",
       "2  Ir directamente al contenido principal_x000D_\\...              año  \n",
       "3  Ir directamente al contenido principal_x000D_\\...              año  \n",
       "4  Ir directamente al contenido principal_x000D_\\...              NaN  "
      ]
     },
     "execution_count": 10,
     "metadata": {},
     "output_type": "execute_result"
    }
   ],
   "source": [
    "Jobs.head()"
   ]
  },
  {
   "cell_type": "markdown",
   "id": "433b22c6",
   "metadata": {},
   "source": [
    "Nice! Now let's delete the words \"Desde \" and \"Hasta \":"
   ]
  },
  {
   "cell_type": "code",
   "execution_count": 11,
   "id": "ce603b29",
   "metadata": {},
   "outputs": [],
   "source": [
    "Jobs['Salary'] = Jobs['Salary'].str.replace('Desde ','')\n",
    "Jobs['Salary'] = Jobs['Salary'].str.replace('Hasta ','')"
   ]
  },
  {
   "cell_type": "code",
   "execution_count": 12,
   "id": "f77598b7",
   "metadata": {},
   "outputs": [
    {
     "data": {
      "text/html": [
       "<div>\n",
       "<style scoped>\n",
       "    .dataframe tbody tr th:only-of-type {\n",
       "        vertical-align: middle;\n",
       "    }\n",
       "\n",
       "    .dataframe tbody tr th {\n",
       "        vertical-align: top;\n",
       "    }\n",
       "\n",
       "    .dataframe thead th {\n",
       "        text-align: right;\n",
       "    }\n",
       "</style>\n",
       "<table border=\"1\" class=\"dataframe\">\n",
       "  <thead>\n",
       "    <tr style=\"text-align: right;\">\n",
       "      <th></th>\n",
       "      <th>Job</th>\n",
       "      <th>URL</th>\n",
       "      <th>Company</th>\n",
       "      <th>Location</th>\n",
       "      <th>Salary</th>\n",
       "      <th>Posted</th>\n",
       "      <th>ID</th>\n",
       "      <th>Job_Description</th>\n",
       "      <th>Frecuency_Salary</th>\n",
       "    </tr>\n",
       "  </thead>\n",
       "  <tbody>\n",
       "    <tr>\n",
       "      <th>0</th>\n",
       "      <td>Enterprise Business Intelligence Analyst I</td>\n",
       "      <td>https://www.indeed.com/rc/clk?jk=dd21611605e12...</td>\n",
       "      <td>BOK Financial</td>\n",
       "      <td>Tulsa, OK 74101</td>\n",
       "      <td>NaN</td>\n",
       "      <td>PostedPublicado hace 2 días</td>\n",
       "      <td>job_dd21611605e12f1c</td>\n",
       "      <td>Ir directamente al contenido principal_x000D_\\...</td>\n",
       "      <td>NaN</td>\n",
       "    </tr>\n",
       "    <tr>\n",
       "      <th>1</th>\n",
       "      <td>Business Analyst, Commercial Strategy</td>\n",
       "      <td>https://www.indeed.com/rc/clk?jk=64d9fb0d5e335...</td>\n",
       "      <td>Live Nation</td>\n",
       "      <td>Chicago, IL</td>\n",
       "      <td>NaN</td>\n",
       "      <td>PostedPublicado hace más de 30 días</td>\n",
       "      <td>job_64d9fb0d5e3351ae</td>\n",
       "      <td>Ir directamente al contenido principal_x000D_\\...</td>\n",
       "      <td>NaN</td>\n",
       "    </tr>\n",
       "    <tr>\n",
       "      <th>2</th>\n",
       "      <td>Business Analyst I</td>\n",
       "      <td>https://www.indeed.com/rc/clk?jk=3f63ec9a3f8d6...</td>\n",
       "      <td>Amex</td>\n",
       "      <td>Phoenix, AZ</td>\n",
       "      <td>$55,000 - $105,000 por año</td>\n",
       "      <td>PostedPublicado hace más de 30 días</td>\n",
       "      <td>job_3f63ec9a3f8d6a9e</td>\n",
       "      <td>Ir directamente al contenido principal_x000D_\\...</td>\n",
       "      <td>año</td>\n",
       "    </tr>\n",
       "    <tr>\n",
       "      <th>3</th>\n",
       "      <td>Sr. Analyst, Business Optimization (Remote)</td>\n",
       "      <td>https://www.indeed.com/rc/clk?jk=f78f07684adbc...</td>\n",
       "      <td>Staples</td>\n",
       "      <td>Remote</td>\n",
       "      <td>$57,300 - $86,400 por año</td>\n",
       "      <td>PostedPublicado hace 3 días</td>\n",
       "      <td>job_f78f07684adbc4c4</td>\n",
       "      <td>Ir directamente al contenido principal_x000D_\\...</td>\n",
       "      <td>año</td>\n",
       "    </tr>\n",
       "    <tr>\n",
       "      <th>4</th>\n",
       "      <td>Business Risk Analyst I - Commercial Risk</td>\n",
       "      <td>https://www.indeed.com/rc/clk?jk=72945a28e3458...</td>\n",
       "      <td>M&amp;T Bank</td>\n",
       "      <td>Buffalo, NY</td>\n",
       "      <td>NaN</td>\n",
       "      <td>PostedPublicado hace 6 días</td>\n",
       "      <td>job_72945a28e345817a</td>\n",
       "      <td>Ir directamente al contenido principal_x000D_\\...</td>\n",
       "      <td>NaN</td>\n",
       "    </tr>\n",
       "  </tbody>\n",
       "</table>\n",
       "</div>"
      ],
      "text/plain": [
       "                                           Job  \\\n",
       "0   Enterprise Business Intelligence Analyst I   \n",
       "1        Business Analyst, Commercial Strategy   \n",
       "2                           Business Analyst I   \n",
       "3  Sr. Analyst, Business Optimization (Remote)   \n",
       "4    Business Risk Analyst I - Commercial Risk   \n",
       "\n",
       "                                                 URL        Company  \\\n",
       "0  https://www.indeed.com/rc/clk?jk=dd21611605e12...  BOK Financial   \n",
       "1  https://www.indeed.com/rc/clk?jk=64d9fb0d5e335...    Live Nation   \n",
       "2  https://www.indeed.com/rc/clk?jk=3f63ec9a3f8d6...           Amex   \n",
       "3  https://www.indeed.com/rc/clk?jk=f78f07684adbc...        Staples   \n",
       "4  https://www.indeed.com/rc/clk?jk=72945a28e3458...       M&T Bank   \n",
       "\n",
       "          Location                      Salary  \\\n",
       "0  Tulsa, OK 74101                         NaN   \n",
       "1      Chicago, IL                         NaN   \n",
       "2      Phoenix, AZ  $55,000 - $105,000 por año   \n",
       "3           Remote   $57,300 - $86,400 por año   \n",
       "4      Buffalo, NY                         NaN   \n",
       "\n",
       "                                Posted                    ID  \\\n",
       "0          PostedPublicado hace 2 días  job_dd21611605e12f1c   \n",
       "1  PostedPublicado hace más de 30 días  job_64d9fb0d5e3351ae   \n",
       "2  PostedPublicado hace más de 30 días  job_3f63ec9a3f8d6a9e   \n",
       "3          PostedPublicado hace 3 días  job_f78f07684adbc4c4   \n",
       "4          PostedPublicado hace 6 días  job_72945a28e345817a   \n",
       "\n",
       "                                     Job_Description Frecuency_Salary  \n",
       "0  Ir directamente al contenido principal_x000D_\\...              NaN  \n",
       "1  Ir directamente al contenido principal_x000D_\\...              NaN  \n",
       "2  Ir directamente al contenido principal_x000D_\\...              año  \n",
       "3  Ir directamente al contenido principal_x000D_\\...              año  \n",
       "4  Ir directamente al contenido principal_x000D_\\...              NaN  "
      ]
     },
     "execution_count": 12,
     "metadata": {},
     "output_type": "execute_result"
    }
   ],
   "source": [
    "Jobs.head()"
   ]
  },
  {
   "cell_type": "markdown",
   "id": "5f67eaa8",
   "metadata": {},
   "source": [
    "Let's work on the range values. An interesting approach would be to have two new columns, for the low part of the range, and another for the high part of the range:"
   ]
  },
  {
   "cell_type": "code",
   "execution_count": 13,
   "id": "b44b2bf9",
   "metadata": {},
   "outputs": [],
   "source": [
    "salary_split = Jobs['Salary'].str.split('-', expand=True)\n",
    "Jobs['Low_Salary'] = salary_split[0].str.strip()\n",
    "Jobs['High_Salary'] = salary_split[1].str.strip()"
   ]
  },
  {
   "cell_type": "markdown",
   "id": "8ee3e95e",
   "metadata": {},
   "source": [
    "With these split, all the non-range values, will have value only in the Low_Salary column. In this cases, let's set the same values for all low and high salary columns:"
   ]
  },
  {
   "cell_type": "code",
   "execution_count": 14,
   "id": "19a9c959",
   "metadata": {},
   "outputs": [],
   "source": [
    "Jobs['High_Salary'] = Jobs['High_Salary'].fillna(Jobs['Low_Salary'])"
   ]
  },
  {
   "cell_type": "code",
   "execution_count": 15,
   "id": "7b4e7fe0",
   "metadata": {},
   "outputs": [
    {
     "data": {
      "text/html": [
       "<div>\n",
       "<style scoped>\n",
       "    .dataframe tbody tr th:only-of-type {\n",
       "        vertical-align: middle;\n",
       "    }\n",
       "\n",
       "    .dataframe tbody tr th {\n",
       "        vertical-align: top;\n",
       "    }\n",
       "\n",
       "    .dataframe thead th {\n",
       "        text-align: right;\n",
       "    }\n",
       "</style>\n",
       "<table border=\"1\" class=\"dataframe\">\n",
       "  <thead>\n",
       "    <tr style=\"text-align: right;\">\n",
       "      <th></th>\n",
       "      <th>Job</th>\n",
       "      <th>URL</th>\n",
       "      <th>Company</th>\n",
       "      <th>Location</th>\n",
       "      <th>Salary</th>\n",
       "      <th>Posted</th>\n",
       "      <th>ID</th>\n",
       "      <th>Job_Description</th>\n",
       "      <th>Frecuency_Salary</th>\n",
       "      <th>Low_Salary</th>\n",
       "      <th>High_Salary</th>\n",
       "    </tr>\n",
       "  </thead>\n",
       "  <tbody>\n",
       "    <tr>\n",
       "      <th>0</th>\n",
       "      <td>Enterprise Business Intelligence Analyst I</td>\n",
       "      <td>https://www.indeed.com/rc/clk?jk=dd21611605e12...</td>\n",
       "      <td>BOK Financial</td>\n",
       "      <td>Tulsa, OK 74101</td>\n",
       "      <td>NaN</td>\n",
       "      <td>PostedPublicado hace 2 días</td>\n",
       "      <td>job_dd21611605e12f1c</td>\n",
       "      <td>Ir directamente al contenido principal_x000D_\\...</td>\n",
       "      <td>NaN</td>\n",
       "      <td>NaN</td>\n",
       "      <td>NaN</td>\n",
       "    </tr>\n",
       "    <tr>\n",
       "      <th>1</th>\n",
       "      <td>Business Analyst, Commercial Strategy</td>\n",
       "      <td>https://www.indeed.com/rc/clk?jk=64d9fb0d5e335...</td>\n",
       "      <td>Live Nation</td>\n",
       "      <td>Chicago, IL</td>\n",
       "      <td>NaN</td>\n",
       "      <td>PostedPublicado hace más de 30 días</td>\n",
       "      <td>job_64d9fb0d5e3351ae</td>\n",
       "      <td>Ir directamente al contenido principal_x000D_\\...</td>\n",
       "      <td>NaN</td>\n",
       "      <td>NaN</td>\n",
       "      <td>NaN</td>\n",
       "    </tr>\n",
       "    <tr>\n",
       "      <th>2</th>\n",
       "      <td>Business Analyst I</td>\n",
       "      <td>https://www.indeed.com/rc/clk?jk=3f63ec9a3f8d6...</td>\n",
       "      <td>Amex</td>\n",
       "      <td>Phoenix, AZ</td>\n",
       "      <td>$55,000 - $105,000 por año</td>\n",
       "      <td>PostedPublicado hace más de 30 días</td>\n",
       "      <td>job_3f63ec9a3f8d6a9e</td>\n",
       "      <td>Ir directamente al contenido principal_x000D_\\...</td>\n",
       "      <td>año</td>\n",
       "      <td>$55,000</td>\n",
       "      <td>$105,000 por año</td>\n",
       "    </tr>\n",
       "    <tr>\n",
       "      <th>3</th>\n",
       "      <td>Sr. Analyst, Business Optimization (Remote)</td>\n",
       "      <td>https://www.indeed.com/rc/clk?jk=f78f07684adbc...</td>\n",
       "      <td>Staples</td>\n",
       "      <td>Remote</td>\n",
       "      <td>$57,300 - $86,400 por año</td>\n",
       "      <td>PostedPublicado hace 3 días</td>\n",
       "      <td>job_f78f07684adbc4c4</td>\n",
       "      <td>Ir directamente al contenido principal_x000D_\\...</td>\n",
       "      <td>año</td>\n",
       "      <td>$57,300</td>\n",
       "      <td>$86,400 por año</td>\n",
       "    </tr>\n",
       "    <tr>\n",
       "      <th>4</th>\n",
       "      <td>Business Risk Analyst I - Commercial Risk</td>\n",
       "      <td>https://www.indeed.com/rc/clk?jk=72945a28e3458...</td>\n",
       "      <td>M&amp;T Bank</td>\n",
       "      <td>Buffalo, NY</td>\n",
       "      <td>NaN</td>\n",
       "      <td>PostedPublicado hace 6 días</td>\n",
       "      <td>job_72945a28e345817a</td>\n",
       "      <td>Ir directamente al contenido principal_x000D_\\...</td>\n",
       "      <td>NaN</td>\n",
       "      <td>NaN</td>\n",
       "      <td>NaN</td>\n",
       "    </tr>\n",
       "  </tbody>\n",
       "</table>\n",
       "</div>"
      ],
      "text/plain": [
       "                                           Job  \\\n",
       "0   Enterprise Business Intelligence Analyst I   \n",
       "1        Business Analyst, Commercial Strategy   \n",
       "2                           Business Analyst I   \n",
       "3  Sr. Analyst, Business Optimization (Remote)   \n",
       "4    Business Risk Analyst I - Commercial Risk   \n",
       "\n",
       "                                                 URL        Company  \\\n",
       "0  https://www.indeed.com/rc/clk?jk=dd21611605e12...  BOK Financial   \n",
       "1  https://www.indeed.com/rc/clk?jk=64d9fb0d5e335...    Live Nation   \n",
       "2  https://www.indeed.com/rc/clk?jk=3f63ec9a3f8d6...           Amex   \n",
       "3  https://www.indeed.com/rc/clk?jk=f78f07684adbc...        Staples   \n",
       "4  https://www.indeed.com/rc/clk?jk=72945a28e3458...       M&T Bank   \n",
       "\n",
       "          Location                      Salary  \\\n",
       "0  Tulsa, OK 74101                         NaN   \n",
       "1      Chicago, IL                         NaN   \n",
       "2      Phoenix, AZ  $55,000 - $105,000 por año   \n",
       "3           Remote   $57,300 - $86,400 por año   \n",
       "4      Buffalo, NY                         NaN   \n",
       "\n",
       "                                Posted                    ID  \\\n",
       "0          PostedPublicado hace 2 días  job_dd21611605e12f1c   \n",
       "1  PostedPublicado hace más de 30 días  job_64d9fb0d5e3351ae   \n",
       "2  PostedPublicado hace más de 30 días  job_3f63ec9a3f8d6a9e   \n",
       "3          PostedPublicado hace 3 días  job_f78f07684adbc4c4   \n",
       "4          PostedPublicado hace 6 días  job_72945a28e345817a   \n",
       "\n",
       "                                     Job_Description Frecuency_Salary  \\\n",
       "0  Ir directamente al contenido principal_x000D_\\...              NaN   \n",
       "1  Ir directamente al contenido principal_x000D_\\...              NaN   \n",
       "2  Ir directamente al contenido principal_x000D_\\...              año   \n",
       "3  Ir directamente al contenido principal_x000D_\\...              año   \n",
       "4  Ir directamente al contenido principal_x000D_\\...              NaN   \n",
       "\n",
       "  Low_Salary       High_Salary  \n",
       "0        NaN               NaN  \n",
       "1        NaN               NaN  \n",
       "2    $55,000  $105,000 por año  \n",
       "3    $57,300   $86,400 por año  \n",
       "4        NaN               NaN  "
      ]
     },
     "execution_count": 15,
     "metadata": {},
     "output_type": "execute_result"
    }
   ],
   "source": [
    "Jobs.head()"
   ]
  },
  {
   "cell_type": "markdown",
   "id": "6f4a1e5c",
   "metadata": {},
   "source": [
    "We see how it looks better, but we need to clean the non numeric values for both columns. So let's replace all the non numeric strings:"
   ]
  },
  {
   "cell_type": "code",
   "execution_count": 16,
   "id": "96e793f0",
   "metadata": {},
   "outputs": [],
   "source": [
    "Jobs['Low_Salary'] = Jobs['Low_Salary'].replace('[\\$,]', '', regex=True)\n",
    "Jobs['High_Salary'] = Jobs['High_Salary'].replace('[\\$,]', '', regex=True)\n",
    "Jobs['Low_Salary'] = Jobs['Low_Salary'].replace(' por hora', '', regex=True)\n",
    "Jobs['High_Salary'] = Jobs['High_Salary'].replace(' por hora', '', regex=True)\n",
    "Jobs['Low_Salary'] = Jobs['Low_Salary'].replace(' por día', '', regex=True)\n",
    "Jobs['High_Salary'] = Jobs['High_Salary'].replace(' por día', '', regex=True)\n",
    "Jobs['Low_Salary'] = Jobs['Low_Salary'].replace(' por año', '', regex=True)\n",
    "Jobs['High_Salary'] = Jobs['High_Salary'].replace(' por año', '', regex=True)\n",
    "Jobs['Low_Salary'] = Jobs['Low_Salary'].replace(' por mes', '', regex=True)\n",
    "Jobs['High_Salary'] = Jobs['High_Salary'].replace(' por mes', '', regex=True)\n",
    "Jobs['Low_Salary'] = Jobs['Low_Salary'].replace(' por semana', '', regex=True)\n",
    "Jobs['High_Salary'] = Jobs['High_Salary'].replace(' por semana', '', regex=True)"
   ]
  },
  {
   "cell_type": "code",
   "execution_count": 17,
   "id": "c0485e60",
   "metadata": {},
   "outputs": [
    {
     "data": {
      "text/html": [
       "<div>\n",
       "<style scoped>\n",
       "    .dataframe tbody tr th:only-of-type {\n",
       "        vertical-align: middle;\n",
       "    }\n",
       "\n",
       "    .dataframe tbody tr th {\n",
       "        vertical-align: top;\n",
       "    }\n",
       "\n",
       "    .dataframe thead th {\n",
       "        text-align: right;\n",
       "    }\n",
       "</style>\n",
       "<table border=\"1\" class=\"dataframe\">\n",
       "  <thead>\n",
       "    <tr style=\"text-align: right;\">\n",
       "      <th></th>\n",
       "      <th>Job</th>\n",
       "      <th>URL</th>\n",
       "      <th>Company</th>\n",
       "      <th>Location</th>\n",
       "      <th>Salary</th>\n",
       "      <th>Posted</th>\n",
       "      <th>ID</th>\n",
       "      <th>Job_Description</th>\n",
       "      <th>Frecuency_Salary</th>\n",
       "      <th>Low_Salary</th>\n",
       "      <th>High_Salary</th>\n",
       "    </tr>\n",
       "  </thead>\n",
       "  <tbody>\n",
       "    <tr>\n",
       "      <th>0</th>\n",
       "      <td>Enterprise Business Intelligence Analyst I</td>\n",
       "      <td>https://www.indeed.com/rc/clk?jk=dd21611605e12...</td>\n",
       "      <td>BOK Financial</td>\n",
       "      <td>Tulsa, OK 74101</td>\n",
       "      <td>NaN</td>\n",
       "      <td>PostedPublicado hace 2 días</td>\n",
       "      <td>job_dd21611605e12f1c</td>\n",
       "      <td>Ir directamente al contenido principal_x000D_\\...</td>\n",
       "      <td>NaN</td>\n",
       "      <td>NaN</td>\n",
       "      <td>NaN</td>\n",
       "    </tr>\n",
       "    <tr>\n",
       "      <th>1</th>\n",
       "      <td>Business Analyst, Commercial Strategy</td>\n",
       "      <td>https://www.indeed.com/rc/clk?jk=64d9fb0d5e335...</td>\n",
       "      <td>Live Nation</td>\n",
       "      <td>Chicago, IL</td>\n",
       "      <td>NaN</td>\n",
       "      <td>PostedPublicado hace más de 30 días</td>\n",
       "      <td>job_64d9fb0d5e3351ae</td>\n",
       "      <td>Ir directamente al contenido principal_x000D_\\...</td>\n",
       "      <td>NaN</td>\n",
       "      <td>NaN</td>\n",
       "      <td>NaN</td>\n",
       "    </tr>\n",
       "    <tr>\n",
       "      <th>2</th>\n",
       "      <td>Business Analyst I</td>\n",
       "      <td>https://www.indeed.com/rc/clk?jk=3f63ec9a3f8d6...</td>\n",
       "      <td>Amex</td>\n",
       "      <td>Phoenix, AZ</td>\n",
       "      <td>$55,000 - $105,000 por año</td>\n",
       "      <td>PostedPublicado hace más de 30 días</td>\n",
       "      <td>job_3f63ec9a3f8d6a9e</td>\n",
       "      <td>Ir directamente al contenido principal_x000D_\\...</td>\n",
       "      <td>año</td>\n",
       "      <td>55000</td>\n",
       "      <td>105000</td>\n",
       "    </tr>\n",
       "    <tr>\n",
       "      <th>3</th>\n",
       "      <td>Sr. Analyst, Business Optimization (Remote)</td>\n",
       "      <td>https://www.indeed.com/rc/clk?jk=f78f07684adbc...</td>\n",
       "      <td>Staples</td>\n",
       "      <td>Remote</td>\n",
       "      <td>$57,300 - $86,400 por año</td>\n",
       "      <td>PostedPublicado hace 3 días</td>\n",
       "      <td>job_f78f07684adbc4c4</td>\n",
       "      <td>Ir directamente al contenido principal_x000D_\\...</td>\n",
       "      <td>año</td>\n",
       "      <td>57300</td>\n",
       "      <td>86400</td>\n",
       "    </tr>\n",
       "    <tr>\n",
       "      <th>4</th>\n",
       "      <td>Business Risk Analyst I - Commercial Risk</td>\n",
       "      <td>https://www.indeed.com/rc/clk?jk=72945a28e3458...</td>\n",
       "      <td>M&amp;T Bank</td>\n",
       "      <td>Buffalo, NY</td>\n",
       "      <td>NaN</td>\n",
       "      <td>PostedPublicado hace 6 días</td>\n",
       "      <td>job_72945a28e345817a</td>\n",
       "      <td>Ir directamente al contenido principal_x000D_\\...</td>\n",
       "      <td>NaN</td>\n",
       "      <td>NaN</td>\n",
       "      <td>NaN</td>\n",
       "    </tr>\n",
       "  </tbody>\n",
       "</table>\n",
       "</div>"
      ],
      "text/plain": [
       "                                           Job  \\\n",
       "0   Enterprise Business Intelligence Analyst I   \n",
       "1        Business Analyst, Commercial Strategy   \n",
       "2                           Business Analyst I   \n",
       "3  Sr. Analyst, Business Optimization (Remote)   \n",
       "4    Business Risk Analyst I - Commercial Risk   \n",
       "\n",
       "                                                 URL        Company  \\\n",
       "0  https://www.indeed.com/rc/clk?jk=dd21611605e12...  BOK Financial   \n",
       "1  https://www.indeed.com/rc/clk?jk=64d9fb0d5e335...    Live Nation   \n",
       "2  https://www.indeed.com/rc/clk?jk=3f63ec9a3f8d6...           Amex   \n",
       "3  https://www.indeed.com/rc/clk?jk=f78f07684adbc...        Staples   \n",
       "4  https://www.indeed.com/rc/clk?jk=72945a28e3458...       M&T Bank   \n",
       "\n",
       "          Location                      Salary  \\\n",
       "0  Tulsa, OK 74101                         NaN   \n",
       "1      Chicago, IL                         NaN   \n",
       "2      Phoenix, AZ  $55,000 - $105,000 por año   \n",
       "3           Remote   $57,300 - $86,400 por año   \n",
       "4      Buffalo, NY                         NaN   \n",
       "\n",
       "                                Posted                    ID  \\\n",
       "0          PostedPublicado hace 2 días  job_dd21611605e12f1c   \n",
       "1  PostedPublicado hace más de 30 días  job_64d9fb0d5e3351ae   \n",
       "2  PostedPublicado hace más de 30 días  job_3f63ec9a3f8d6a9e   \n",
       "3          PostedPublicado hace 3 días  job_f78f07684adbc4c4   \n",
       "4          PostedPublicado hace 6 días  job_72945a28e345817a   \n",
       "\n",
       "                                     Job_Description Frecuency_Salary  \\\n",
       "0  Ir directamente al contenido principal_x000D_\\...              NaN   \n",
       "1  Ir directamente al contenido principal_x000D_\\...              NaN   \n",
       "2  Ir directamente al contenido principal_x000D_\\...              año   \n",
       "3  Ir directamente al contenido principal_x000D_\\...              año   \n",
       "4  Ir directamente al contenido principal_x000D_\\...              NaN   \n",
       "\n",
       "  Low_Salary High_Salary  \n",
       "0        NaN         NaN  \n",
       "1        NaN         NaN  \n",
       "2      55000      105000  \n",
       "3      57300       86400  \n",
       "4        NaN         NaN  "
      ]
     },
     "execution_count": 17,
     "metadata": {},
     "output_type": "execute_result"
    }
   ],
   "source": [
    "Jobs.head()"
   ]
  },
  {
   "cell_type": "markdown",
   "id": "fc183d72",
   "metadata": {},
   "source": [
    "Good! Now we need to standardize the Salaries, into a unique frecuency. The most common is to show the salary yearly. So let's transform all the non-yearly salaries into a yearly:"
   ]
  },
  {
   "cell_type": "code",
   "execution_count": 18,
   "id": "4a5bfdbd",
   "metadata": {},
   "outputs": [],
   "source": [
    "Jobs['Low_Salary'] = Jobs['Low_Salary'].astype(float)\n",
    "Jobs['High_Salary'] = Jobs['High_Salary'].astype(float)"
   ]
  },
  {
   "cell_type": "code",
   "execution_count": null,
   "id": "6bef3178",
   "metadata": {},
   "outputs": [],
   "source": [
    "def transform_salary(row):\n",
    "    if row['Frecuency_Salary'] == 'año':\n",
    "        factor = 1\n",
    "    elif row['Frecuency_Salary'] == 'mes':\n",
    "        factor = 12\n",
    "    elif row['Frecuency_Salary'] == 'semana':\n",
    "        factor = 49\n",
    "    elif row['Frecuency_Salary'] == 'día':\n",
    "        factor = 230\n",
    "    elif row['Frecuency_Salary'] == 'hora':\n",
    "        factor = 1840\n",
    "    else:\n",
    "        factor = 1\n",
    "    row['Low_Salary'] *= factor\n",
    "    row['High_Salary'] *= factor\n",
    "    return row\n",
    "\n",
    "Jobs = Jobs.apply(transform_salary, axis=1)"
   ]
  },
  {
   "cell_type": "code",
   "execution_count": null,
   "id": "5e831fff",
   "metadata": {},
   "outputs": [],
   "source": [
    "Jobs.head()"
   ]
  },
  {
   "cell_type": "markdown",
   "id": "a27554cc",
   "metadata": {},
   "source": [
    "Nice! The last step here, is to create a unique column with salaries. The purpose of this is to compare and analyze, since some of the salaries are ranges and some others are not. The best approach for this is to have a mean salary column:"
   ]
  },
  {
   "cell_type": "code",
   "execution_count": null,
   "id": "5f3b137b",
   "metadata": {},
   "outputs": [],
   "source": [
    "Jobs['Mean_Salary'] = (Jobs['Low_Salary'] + Jobs['High_Salary']) / 2"
   ]
  },
  {
   "cell_type": "code",
   "execution_count": null,
   "id": "5e7c3882",
   "metadata": {},
   "outputs": [],
   "source": [
    "Jobs.head()"
   ]
  },
  {
   "cell_type": "markdown",
   "id": "70ec860b",
   "metadata": {},
   "source": [
    "PERFECT!"
   ]
  },
  {
   "cell_type": "markdown",
   "id": "e6825d0b",
   "metadata": {},
   "source": [
    "## Jobs Group\n",
    "\n",
    "Since the Job names are quite heterogeneus, it's mandatory to group them in a few job groups. Let's do it with the dictionary categories.xlsx: "
   ]
  },
  {
   "cell_type": "code",
   "execution_count": null,
   "id": "f6993041",
   "metadata": {},
   "outputs": [],
   "source": [
    "category_df = pd.read_excel('master_data\\categories.xlsx')\n",
    "\n",
    "category_df.head()"
   ]
  },
  {
   "cell_type": "code",
   "execution_count": null,
   "id": "4d980992",
   "metadata": {},
   "outputs": [],
   "source": [
    "categories = category_df.set_index('keyword')['category'].to_dict()\n",
    "\n",
    "def assign_category(job):\n",
    "    job = job.lower()\n",
    "    for keyword, category in categories.items():\n",
    "        if keyword in job:\n",
    "            return category\n",
    "    return 'Others'\n",
    "\n",
    "Jobs['Jobs_Group'] = Jobs['Job'].apply(assign_category)"
   ]
  },
  {
   "cell_type": "code",
   "execution_count": null,
   "id": "d974ec59",
   "metadata": {
    "scrolled": false
   },
   "outputs": [],
   "source": [
    "category_counts = Jobs['Jobs_Group'].value_counts()\n",
    "\n",
    "print(category_counts)"
   ]
  },
  {
   "cell_type": "markdown",
   "id": "848bb216",
   "metadata": {},
   "source": [
    "Nice!"
   ]
  },
  {
   "cell_type": "markdown",
   "id": "6b45c2c2",
   "metadata": {},
   "source": [
    "## Location"
   ]
  },
  {
   "cell_type": "markdown",
   "id": "db3b39b7",
   "metadata": {},
   "source": [
    "The next step would be to clean the Location column. Would be nice to have a City and State column. The best way to split it, is to split it two columns by comma, getting all the string before, and the two letters after comma. The first column will be the city, and the second one the state. Let's work on it!"
   ]
  },
  {
   "cell_type": "code",
   "execution_count": null,
   "id": "edec70a4",
   "metadata": {},
   "outputs": [],
   "source": [
    "Jobs[['City', 'State']] = Jobs['Location'].str.extract(r'^(.+),\\s([A-Z]{2})', expand=True)"
   ]
  },
  {
   "cell_type": "code",
   "execution_count": null,
   "id": "cce8d56f",
   "metadata": {},
   "outputs": [],
   "source": [
    "Jobs.head()"
   ]
  },
  {
   "cell_type": "code",
   "execution_count": null,
   "id": "f71f5a62",
   "metadata": {},
   "outputs": [],
   "source": [
    "Jobs['City'].values"
   ]
  },
  {
   "cell_type": "code",
   "execution_count": null,
   "id": "10c196aa",
   "metadata": {},
   "outputs": [],
   "source": [
    "Jobs['State'].values"
   ]
  },
  {
   "cell_type": "markdown",
   "id": "5a6e8031",
   "metadata": {},
   "source": [
    "Nice! Now a minor problem, is that there is some Locations, that are directy the state (e.g. California). In this cases, let's create a function, using the dictionary states.xlsx:"
   ]
  },
  {
   "cell_type": "code",
   "execution_count": null,
   "id": "074723db",
   "metadata": {},
   "outputs": [],
   "source": [
    "states_df = pd.read_excel('master_data\\states.xlsx')\n",
    "\n",
    "states_df.head()"
   ]
  },
  {
   "cell_type": "code",
   "execution_count": null,
   "id": "0a675b87",
   "metadata": {},
   "outputs": [],
   "source": [
    "states_dict = states_df.set_index('State')['Code'].to_dict()\n",
    "\n",
    "def assign_state(row):\n",
    "    if pd.isnull(row['State']):\n",
    "        for state, code in states_dict.items():\n",
    "            if state.lower() in row['Location'].lower():\n",
    "                return code\n",
    "    return row['State']\n",
    "\n",
    "Jobs['State'] = Jobs.apply(assign_state, axis=1)"
   ]
  },
  {
   "cell_type": "markdown",
   "id": "bac2b562",
   "metadata": {},
   "source": [
    "Perfect!"
   ]
  },
  {
   "cell_type": "markdown",
   "id": "df34c3a9",
   "metadata": {},
   "source": [
    "## Remote\n",
    "\n",
    "An interesting column would be if a job is remote or hybrid or none of these. In order to do so, we can use a dictionary with keywords:"
   ]
  },
  {
   "cell_type": "code",
   "execution_count": null,
   "id": "35eb5124",
   "metadata": {},
   "outputs": [],
   "source": [
    "remote_df = pd.read_excel('master_data/remote.xlsx')\n",
    "\n",
    "remote_df.head()"
   ]
  },
  {
   "cell_type": "code",
   "execution_count": null,
   "id": "0aca6fea",
   "metadata": {},
   "outputs": [],
   "source": [
    "remote_dict = remote_df.set_index('Value')['Category'].to_dict()\n",
    "\n",
    "def assign_remote(row):\n",
    "    for col in ['Job', 'Location', 'Job_Description']:\n",
    "        for value, category in remote_dict.items():\n",
    "            if value.lower() in row[col].lower():\n",
    "                return category\n",
    "    return None\n",
    "\n",
    "Jobs['Remote'] = Jobs.apply(assign_remote, axis=1)"
   ]
  },
  {
   "cell_type": "code",
   "execution_count": null,
   "id": "2997f5a6",
   "metadata": {},
   "outputs": [],
   "source": [
    "remote_counts = Jobs['Remote'].value_counts()\n",
    "\n",
    "print(remote_counts)"
   ]
  },
  {
   "cell_type": "markdown",
   "id": "c4a6baae",
   "metadata": {},
   "source": [
    "Looks great!"
   ]
  },
  {
   "cell_type": "markdown",
   "id": "8dfae8af",
   "metadata": {},
   "source": [
    "## Profile\n",
    "\n",
    "Another interesting column is the profile. In this column we will show if it's a Lead, Senior or a Junior position. As we did in the remote column, we will use a dictionary:"
   ]
  },
  {
   "cell_type": "code",
   "execution_count": null,
   "id": "7305fdc5",
   "metadata": {},
   "outputs": [],
   "source": [
    "profile_df = pd.read_excel('master_data\\profile.xlsx')\n",
    "\n",
    "profile_df.head()"
   ]
  },
  {
   "cell_type": "code",
   "execution_count": null,
   "id": "e288bae3",
   "metadata": {},
   "outputs": [],
   "source": [
    "profile_dict = profile_df.set_index('Value')['Profile'].to_dict()\n",
    "\n",
    "def assign_profile(row):\n",
    "    for col in ['Job']:\n",
    "        for value, profile in profile_dict.items():\n",
    "            if value.lower() in row[col].lower():\n",
    "                return profile\n",
    "    return None\n",
    "\n",
    "Jobs['Profile'] = Jobs.apply(assign_profile, axis=1)"
   ]
  },
  {
   "cell_type": "code",
   "execution_count": null,
   "id": "fee84a62",
   "metadata": {},
   "outputs": [],
   "source": [
    "profile_counts = Jobs['Profile'].value_counts()\n",
    "\n",
    "print(profile_counts)"
   ]
  },
  {
   "cell_type": "markdown",
   "id": "3532d686",
   "metadata": {},
   "source": [
    "Perfect!"
   ]
  },
  {
   "cell_type": "markdown",
   "id": "109873ff",
   "metadata": {},
   "source": [
    "## Skills\n",
    "\n",
    "Now, let's deep into the job descriptions. Would be nice to have a Skills column. We can have it using a dictionary skills.xlsx:"
   ]
  },
  {
   "cell_type": "code",
   "execution_count": null,
   "id": "5a51f2b1",
   "metadata": {},
   "outputs": [],
   "source": [
    "skills_df = pd.read_excel('master_data\\skills.xlsx')\n",
    "\n",
    "skills_df.head()"
   ]
  },
  {
   "cell_type": "code",
   "execution_count": null,
   "id": "c9f148be",
   "metadata": {},
   "outputs": [],
   "source": [
    "skills_dict = skills_df.set_index('Skills')['Group'].to_dict()\n",
    "\n",
    "Jobs['Skills'] = Jobs['Job_Description'].apply(lambda x: list(set([skills_dict[skill] for skill in skills_dict.keys() if skill in x])))"
   ]
  },
  {
   "cell_type": "code",
   "execution_count": null,
   "id": "af89757a",
   "metadata": {
    "scrolled": true
   },
   "outputs": [],
   "source": [
    "skills_freq = Jobs['Skills'].explode().value_counts()\n",
    "\n",
    "skills_percent = skills_freq / len(Jobs) * 100\n",
    "\n",
    "top_skills = skills_percent.sort_values(ascending=False)\n",
    "\n",
    "skills_df_freq = pd.DataFrame({'Percentage': top_skills, 'Count': skills_freq[top_skills.index]})\n",
    "\n",
    "skills_df_freq.style.format({'Percentage': '{:.2f}%'})"
   ]
  },
  {
   "cell_type": "markdown",
   "id": "1fa478c8",
   "metadata": {},
   "source": [
    "Perfect!"
   ]
  },
  {
   "cell_type": "markdown",
   "id": "0fb31e28",
   "metadata": {},
   "source": [
    "# Generating the csv file\n",
    "\n",
    "The last part is generate the final file. We are going to generate a csv format file. But first of all, we need to reorganize the columns:"
   ]
  },
  {
   "cell_type": "code",
   "execution_count": null,
   "id": "36f47a5f",
   "metadata": {
    "scrolled": true
   },
   "outputs": [],
   "source": [
    "Jobs_csv = Jobs[['ID','Job','Jobs_Group','Profile','Remote','Company','Location','City','State','Salary','Frecuency_Salary','Low_Salary','High_Salary','Mean_Salary','Skills']]"
   ]
  },
  {
   "cell_type": "code",
   "execution_count": null,
   "id": "24035e9f",
   "metadata": {},
   "outputs": [],
   "source": [
    "Jobs_csv"
   ]
  },
  {
   "cell_type": "code",
   "execution_count": null,
   "id": "ad65cd64",
   "metadata": {},
   "outputs": [],
   "source": [
    "Jobs_csv.to_csv('jobs.csv', index=False, encoding=\"utf-16\")\n",
    "Jobs_csv.to_excel('jobs.xlsx', index=False)"
   ]
  },
  {
   "cell_type": "markdown",
   "id": "8e65d366",
   "metadata": {},
   "source": [
    "# THANK YOU!!"
   ]
  }
 ],
 "metadata": {
  "kernelspec": {
   "display_name": "Python 3 (ipykernel)",
   "language": "python",
   "name": "python3"
  },
  "language_info": {
   "codemirror_mode": {
    "name": "ipython",
    "version": 3
   },
   "file_extension": ".py",
   "mimetype": "text/x-python",
   "name": "python",
   "nbconvert_exporter": "python",
   "pygments_lexer": "ipython3",
   "version": "3.9.13"
  }
 },
 "nbformat": 4,
 "nbformat_minor": 5
}
